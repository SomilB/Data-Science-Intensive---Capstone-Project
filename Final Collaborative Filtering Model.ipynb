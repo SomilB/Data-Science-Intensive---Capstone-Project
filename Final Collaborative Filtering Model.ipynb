{
 "cells": [
  {
   "cell_type": "code",
   "execution_count": 1,
   "metadata": {
    "collapsed": false
   },
   "outputs": [],
   "source": [
    "import pandas as pd\n",
    "import numpy as np\n",
    "import math\n",
    "from sklearn.cross_validation import train_test_split\n",
    "from sklearn.decomposition import PCA\n",
    "import matplotlib\n",
    "%matplotlib inline\n",
    "import matplotlib.pyplot as plt"
   ]
  },
  {
   "cell_type": "code",
   "execution_count": 2,
   "metadata": {
    "collapsed": false
   },
   "outputs": [],
   "source": [
    "ratings = pd.DataFrame.from_csv('Small/ratings.csv',index_col=None)\n",
    "movies = pd.DataFrame.from_csv('Small/movies.csv',index_col='movieId')"
   ]
  },
  {
   "cell_type": "code",
   "execution_count": 3,
   "metadata": {
    "collapsed": false,
    "scrolled": true
   },
   "outputs": [
    {
     "data": {
      "text/plain": [
       "(20816, 3)"
      ]
     },
     "execution_count": 3,
     "metadata": {},
     "output_type": "execute_result"
    }
   ],
   "source": [
    "#Step 1: Remove movies with less ratings than threshold\n",
    "r = ratings\n",
    "r = r[r.timestamp >= 1059696000]\n",
    "r = r.set_index('userId')\n",
    "r['user_freq'] = r.index.value_counts()\n",
    "r = r[(r.user_freq <= 2000)&(r.user_freq >= 40)]\n",
    "r = r.reset_index()\n",
    "r = r.set_index('movieId')\n",
    "r['movie_freq'] = r.index.value_counts()\n",
    "r = r[r.movie_freq >=35]\n",
    "r = r.reset_index()\n",
    "r = r.drop(['user_freq','movie_freq','timestamp'],axis=1)\n",
    "\n",
    "r.shape"
   ]
  },
  {
   "cell_type": "code",
   "execution_count": 4,
   "metadata": {
    "collapsed": false,
    "scrolled": true
   },
   "outputs": [],
   "source": [
    "r_piv = r.pivot('movieId','userId','rating')\n",
    "same_shape = False\n",
    "while same_shape == False:\n",
    "    train, test = train_test_split(r, train_size = 0.80)\n",
    "    trainm = train.pivot('movieId','userId','rating')\n",
    "    testm = test.pivot('movieId','userId','rating')\n",
    "    if (trainm.shape == r_piv.shape) & (testm.shape == r_piv.shape):\n",
    "        same_shape = True\n",
    "\n",
    "k = 4\n",
    "n_obs = len(train)\n",
    "n = int(n_obs/k)\n",
    "\n",
    "ind = r_piv.index\n",
    "col = r_piv.columns\n",
    "nmovies, nusers = r_piv.shape\n",
    "mu = r_piv.mean(axis = 1)"
   ]
  },
  {
   "cell_type": "code",
   "execution_count": 5,
   "metadata": {
    "collapsed": false
   },
   "outputs": [],
   "source": [
    "dim_check = False\n",
    "while dim_check == False:\n",
    "    shuffled_train = train.reindex(np.random.permutation(train.index))\n",
    "    for num in range(0,k):\n",
    "        if num != k-1:\n",
    "            cv = shuffled_train[num*n:(num+1)*n]\n",
    "        else:\n",
    "            cv = shuffled_train[num*n:]\n",
    "        tr = shuffled_train.drop(cv.index)\n",
    "        trm = tr.pivot('movieId','userId','rating')\n",
    "        cvm = cv.pivot('movieId','userId','rating')\n",
    "        #print(num, trainm.shape, trm.shape, cvm.shape)\n",
    "        if (trm.shape != trainm.shape) | (cvm.shape != trainm.shape):\n",
    "            dim_check = False\n",
    "            break\n",
    "        else:\n",
    "            dim_check = True"
   ]
  },
  {
   "cell_type": "code",
   "execution_count": 6,
   "metadata": {
    "collapsed": false,
    "scrolled": true
   },
   "outputs": [],
   "source": [
    "Results = []\n",
    "for trial in range(1,4):\n",
    "    for nfeatures in [200,250,300,350,400]:\n",
    "        for reg in [2.5,5,10]:\n",
    "            alpha = .003 #learning rate\n",
    "            cum_red = 0\n",
    "            for num in range(0,k):\n",
    "                X = np.random.randn(nmovies,nfeatures) #movie features\n",
    "                Theta = np.random.randn(nusers,nfeatures) #user features\n",
    "                \n",
    "                if num != k-1:\n",
    "                    cv = shuffled_train[num*n:(num+1)*n]\n",
    "                else:\n",
    "                    cv = shuffled_train[num*n:]\n",
    "                tr = shuffled_train.drop(cv.index)\n",
    "                trm = tr.pivot('movieId','userId','rating')\n",
    "                cvm = cv.pivot('movieId','userId','rating')\n",
    "                \n",
    "                trm2 = trm.subtract(mu,axis=0)\n",
    "                R = np.asarray(~np.isnan(trm2)) #Matrix containing boolean for rated/not rated for each movie user pairing\n",
    "                trm2 = np.asarray(trm2.fillna(0))\n",
    "\n",
    "                delta = 1\n",
    "            \n",
    "                J_new = np.sum(np.sum(np.multiply(((np.dot(X,np.transpose(Theta))-trm2)**2),R)))/2 + reg/2*(np.sum(np.sum(Theta**2))+np.sum(np.sum(X**2)))\n",
    "                while delta >= 0.001:\n",
    "                    J_old = J_new\n",
    "                    X_grad = np.dot(np.multiply(np.dot(X,np.transpose(Theta))-trm2,R),Theta) + reg*X\n",
    "                    Theta_grad = np.dot(np.transpose(np.multiply(np.dot(X,np.transpose(Theta))-trm2,R)),X)+reg*Theta\n",
    "                    X = X-alpha*X_grad\n",
    "                    Theta = Theta-alpha*Theta_grad\n",
    "                    J_new = np.sum(np.sum(np.multiply(((np.dot(X,np.transpose(Theta))-trm2)**2),R)))/2 + reg/2*(np.sum(np.sum(Theta**2))+np.sum(np.sum(X**2)))\n",
    "                    delta = (J_old-J_new)/J_old\n",
    "                    if delta <0:\n",
    "                        X = X+alpha*X_grad\n",
    "                        Theta = Theta+alpha*Theta_grad\n",
    "                        J_new = J_old\n",
    "                        alpha = alpha/2\n",
    "                        delta=1\n",
    "                \n",
    "                Predictions = pd.DataFrame(data = np.dot(X,np.transpose(Theta)),index = ind, columns = col)\n",
    "                Predictions = Predictions.add(mu,axis = 0)\n",
    "            \n",
    "                RMSE_avg = math.sqrt(np.sum(np.sum((cvm.subtract(mu,axis = 0))**2))/len(cv))\n",
    "                RMSE_alg = math.sqrt(np.sum(np.sum((Predictions - cvm)**2))/len(cv))\n",
    "                cum_red += (RMSE_avg - RMSE_alg)/RMSE_avg*100\n",
    "            \n",
    "            red = cum_red/k\n",
    "                        \n",
    "            Results.append({'Trial': trial, 'Features': nfeatures, 'Reg. Parameter': reg, '% Reduction in RMSE': red})\n",
    "\n",
    "Results = pd.DataFrame(Results)\n",
    "Results = Results.set_index(['Trial','Features','Reg. Parameter'])\n",
    "Results = Results.unstack('Trial')"
   ]
  },
  {
   "cell_type": "code",
   "execution_count": 7,
   "metadata": {
    "collapsed": false
   },
   "outputs": [
    {
     "data": {
      "text/html": [
       "<div>\n",
       "<table border=\"1\" class=\"dataframe\">\n",
       "  <thead>\n",
       "    <tr>\n",
       "      <th></th>\n",
       "      <th></th>\n",
       "      <th colspan=\"3\" halign=\"left\">% Reduction in RMSE</th>\n",
       "    </tr>\n",
       "    <tr>\n",
       "      <th></th>\n",
       "      <th>Trial</th>\n",
       "      <th>1</th>\n",
       "      <th>2</th>\n",
       "      <th>3</th>\n",
       "    </tr>\n",
       "    <tr>\n",
       "      <th>Features</th>\n",
       "      <th>Reg. Parameter</th>\n",
       "      <th></th>\n",
       "      <th></th>\n",
       "      <th></th>\n",
       "    </tr>\n",
       "  </thead>\n",
       "  <tbody>\n",
       "    <tr>\n",
       "      <th rowspan=\"3\" valign=\"top\">200</th>\n",
       "      <th>2.5</th>\n",
       "      <td>5.589384</td>\n",
       "      <td>5.535174</td>\n",
       "      <td>5.445152</td>\n",
       "    </tr>\n",
       "    <tr>\n",
       "      <th>5.0</th>\n",
       "      <td>6.840531</td>\n",
       "      <td>6.812381</td>\n",
       "      <td>6.725516</td>\n",
       "    </tr>\n",
       "    <tr>\n",
       "      <th>10.0</th>\n",
       "      <td>5.621169</td>\n",
       "      <td>5.664231</td>\n",
       "      <td>5.618512</td>\n",
       "    </tr>\n",
       "    <tr>\n",
       "      <th rowspan=\"3\" valign=\"top\">250</th>\n",
       "      <th>2.5</th>\n",
       "      <td>5.986714</td>\n",
       "      <td>6.036809</td>\n",
       "      <td>6.181394</td>\n",
       "    </tr>\n",
       "    <tr>\n",
       "      <th>5.0</th>\n",
       "      <td>6.849052</td>\n",
       "      <td>6.789370</td>\n",
       "      <td>6.877346</td>\n",
       "    </tr>\n",
       "    <tr>\n",
       "      <th>10.0</th>\n",
       "      <td>5.616131</td>\n",
       "      <td>5.642231</td>\n",
       "      <td>5.636288</td>\n",
       "    </tr>\n",
       "    <tr>\n",
       "      <th rowspan=\"3\" valign=\"top\">300</th>\n",
       "      <th>2.5</th>\n",
       "      <td>6.253209</td>\n",
       "      <td>6.111578</td>\n",
       "      <td>6.361749</td>\n",
       "    </tr>\n",
       "    <tr>\n",
       "      <th>5.0</th>\n",
       "      <td>6.972623</td>\n",
       "      <td>7.013077</td>\n",
       "      <td>6.915094</td>\n",
       "    </tr>\n",
       "    <tr>\n",
       "      <th>10.0</th>\n",
       "      <td>5.688899</td>\n",
       "      <td>5.635335</td>\n",
       "      <td>5.635817</td>\n",
       "    </tr>\n",
       "    <tr>\n",
       "      <th rowspan=\"3\" valign=\"top\">350</th>\n",
       "      <th>2.5</th>\n",
       "      <td>5.305559</td>\n",
       "      <td>5.073112</td>\n",
       "      <td>5.030704</td>\n",
       "    </tr>\n",
       "    <tr>\n",
       "      <th>5.0</th>\n",
       "      <td>6.324296</td>\n",
       "      <td>6.313873</td>\n",
       "      <td>6.394893</td>\n",
       "    </tr>\n",
       "    <tr>\n",
       "      <th>10.0</th>\n",
       "      <td>5.173953</td>\n",
       "      <td>5.226618</td>\n",
       "      <td>5.183267</td>\n",
       "    </tr>\n",
       "    <tr>\n",
       "      <th rowspan=\"3\" valign=\"top\">400</th>\n",
       "      <th>2.5</th>\n",
       "      <td>5.448427</td>\n",
       "      <td>5.462609</td>\n",
       "      <td>5.276864</td>\n",
       "    </tr>\n",
       "    <tr>\n",
       "      <th>5.0</th>\n",
       "      <td>6.242627</td>\n",
       "      <td>6.370354</td>\n",
       "      <td>6.413241</td>\n",
       "    </tr>\n",
       "    <tr>\n",
       "      <th>10.0</th>\n",
       "      <td>5.147260</td>\n",
       "      <td>5.249160</td>\n",
       "      <td>5.223585</td>\n",
       "    </tr>\n",
       "  </tbody>\n",
       "</table>\n",
       "</div>"
      ],
      "text/plain": [
       "                        % Reduction in RMSE                    \n",
       "Trial                                     1         2         3\n",
       "Features Reg. Parameter                                        \n",
       "200      2.5                       5.589384  5.535174  5.445152\n",
       "         5.0                       6.840531  6.812381  6.725516\n",
       "         10.0                      5.621169  5.664231  5.618512\n",
       "250      2.5                       5.986714  6.036809  6.181394\n",
       "         5.0                       6.849052  6.789370  6.877346\n",
       "         10.0                      5.616131  5.642231  5.636288\n",
       "300      2.5                       6.253209  6.111578  6.361749\n",
       "         5.0                       6.972623  7.013077  6.915094\n",
       "         10.0                      5.688899  5.635335  5.635817\n",
       "350      2.5                       5.305559  5.073112  5.030704\n",
       "         5.0                       6.324296  6.313873  6.394893\n",
       "         10.0                      5.173953  5.226618  5.183267\n",
       "400      2.5                       5.448427  5.462609  5.276864\n",
       "         5.0                       6.242627  6.370354  6.413241\n",
       "         10.0                      5.147260  5.249160  5.223585"
      ]
     },
     "execution_count": 7,
     "metadata": {},
     "output_type": "execute_result"
    }
   ],
   "source": [
    "Results"
   ]
  },
  {
   "cell_type": "code",
   "execution_count": 8,
   "metadata": {
    "collapsed": false
   },
   "outputs": [
    {
     "data": {
      "text/plain": [
       "Features  Reg. Parameter\n",
       "200       2.5               5.523237\n",
       "          5.0               6.792809\n",
       "          10.0              5.634637\n",
       "250       2.5               6.068306\n",
       "          5.0               6.838589\n",
       "          10.0              5.631550\n",
       "300       2.5               6.242179\n",
       "          5.0               6.966931\n",
       "          10.0              5.653350\n",
       "350       2.5               5.136458\n",
       "          5.0               6.344354\n",
       "          10.0              5.194613\n",
       "400       2.5               5.395967\n",
       "          5.0               6.342074\n",
       "          10.0              5.206668\n",
       "dtype: float64"
      ]
     },
     "execution_count": 8,
     "metadata": {},
     "output_type": "execute_result"
    }
   ],
   "source": [
    "avg_red = np.mean(Results,axis=1)\n",
    "avg_red"
   ]
  },
  {
   "cell_type": "code",
   "execution_count": 9,
   "metadata": {
    "collapsed": false
   },
   "outputs": [
    {
     "data": {
      "text/plain": [
       "(300, 5.0)"
      ]
     },
     "execution_count": 9,
     "metadata": {},
     "output_type": "execute_result"
    }
   ],
   "source": [
    "nfeatures, reg = np.argmax(avg_red)\n",
    "nfeatures, reg"
   ]
  },
  {
   "cell_type": "code",
   "execution_count": null,
   "metadata": {
    "collapsed": false
   },
   "outputs": [],
   "source": []
  },
  {
   "cell_type": "code",
   "execution_count": 10,
   "metadata": {
    "collapsed": false
   },
   "outputs": [
    {
     "data": {
      "text/plain": [
       "[7.322327762639662,\n",
       " 7.496057426963909,\n",
       " 7.559253376952613,\n",
       " 7.316127679573875,\n",
       " 7.358343049990447]"
      ]
     },
     "execution_count": 10,
     "metadata": {},
     "output_type": "execute_result"
    }
   ],
   "source": [
    "trainm2 = trainm.subtract(mu, axis = 0)\n",
    "R = np.asarray(~np.isnan(trainm2)) #Matrix containing boolean for rated/not rated for each movie user pairing\n",
    "trainm2 = np.asarray(trainm2.fillna(0))\n",
    "\n",
    "Results = []\n",
    "for num in range(0,5):\n",
    "    X = np.random.randn(nmovies,nfeatures) #movie features\n",
    "    Theta = np.random.randn(nusers,nfeatures) #user features\n",
    "\n",
    "    alpha = .003 #learning rate\n",
    "\n",
    "    delta = 1\n",
    "    iter = 0\n",
    "    J = []\n",
    "    J_new = np.sum(np.sum(np.multiply(((np.dot(X,np.transpose(Theta))-trainm2)**2),R)))/2 + reg/2*(np.sum(np.sum(Theta**2))+np.sum(np.sum(X**2)))\n",
    "    J.append({'Iteration': iter, 'Cost': J_new})\n",
    "    while delta >= 0.001:\n",
    "        J_old = J_new\n",
    "        iter = iter+1\n",
    "        X_grad = np.dot(np.multiply(np.dot(X,np.transpose(Theta))-trainm2,R),Theta) + reg*X\n",
    "        Theta_grad = np.dot(np.transpose(np.multiply(np.dot(X,np.transpose(Theta))-trainm2,R)),X)+reg*Theta\n",
    "        X = X-alpha*X_grad\n",
    "        Theta = Theta-alpha*Theta_grad\n",
    "        J_new = np.sum(np.sum(np.multiply(((np.dot(X,np.transpose(Theta))-trainm2)**2),R)))/2 + reg/2*(np.sum(np.sum(Theta**2))+np.sum(np.sum(X**2)))\n",
    "        J.append({'Iteration': iter, 'Cost': J_new})\n",
    "        delta = (J_old-J_new)/J_old\n",
    "        if delta <0:\n",
    "            X = X+alpha*X_grad\n",
    "            Theta = Theta+alpha*Theta_grad\n",
    "            J_new = J_old\n",
    "            alpha = alpha/3\n",
    "            delta=1\n",
    "                \n",
    "    Predictions = pd.DataFrame(data = np.dot(X,np.transpose(Theta)),index = ind, columns = col)\n",
    "    Predictions = Predictions.add(mu,axis = 0)\n",
    "    n_obs= len(testm)\n",
    "            \n",
    "    RMSE_avg = math.sqrt(np.sum(np.sum((testm.subtract(mu,axis = 0))**2))/n_obs)\n",
    "    RMSE_alg = math.sqrt(np.sum(np.sum((Predictions - testm)**2))/n_obs)\n",
    "    red = (RMSE_avg - RMSE_alg)/RMSE_avg*100\n",
    "            \n",
    "    Results.append(red)\n",
    "\n",
    "Results"
   ]
  },
  {
   "cell_type": "code",
   "execution_count": 11,
   "metadata": {
    "collapsed": false
   },
   "outputs": [
    {
     "data": {
      "text/plain": [
       "7.4104218592241011"
      ]
     },
     "execution_count": 11,
     "metadata": {},
     "output_type": "execute_result"
    }
   ],
   "source": [
    "np.mean(Results)"
   ]
  },
  {
   "cell_type": "code",
   "execution_count": null,
   "metadata": {
    "collapsed": true
   },
   "outputs": [],
   "source": []
  },
  {
   "cell_type": "code",
   "execution_count": null,
   "metadata": {
    "collapsed": true
   },
   "outputs": [],
   "source": []
  },
  {
   "cell_type": "code",
   "execution_count": 12,
   "metadata": {
    "collapsed": false
   },
   "outputs": [],
   "source": [
    "#PCA\n",
    "var_explained = 0\n",
    "iter = 0\n",
    "while var_explained < 0.95:\n",
    "    iter += 1\n",
    "    pca = PCA(n_components=iter)\n",
    "    movie_pca = pd.DataFrame(pca.fit_transform(X), index = ind)\n",
    "    var_explained = np.sum(pca.explained_variance_ratio_)\n",
    "    \n",
    "var_explained = 0\n",
    "iter = 0\n",
    "while var_explained < 0.95:\n",
    "    iter += 1\n",
    "    pca = PCA(n_components=iter)\n",
    "    user_pca = pd.DataFrame(pca.fit_transform(Theta), index = col)\n",
    "    var_explained = np.sum(pca.explained_variance_ratio_)"
   ]
  },
  {
   "cell_type": "code",
   "execution_count": 13,
   "metadata": {
    "collapsed": false
   },
   "outputs": [],
   "source": [
    "#NORMALIZED Euclidean distance from other movies based on PCA of learned features\n",
    "\n",
    "#Normalize movie features from 0 to 1, a.k.a. Feature Scaling\n",
    "movie_pca_norm = (movie_pca-movie_pca.min(axis = 0))/(movie_pca.max(axis = 0) - movie_pca.min(axis =0))\n",
    "\n",
    "dist = []\n",
    "for num1 in range(0,nmovies):\n",
    "    for num2 in range(0,nmovies):\n",
    "        dist.append({'movieId1': ind[num1], 'movieId2': ind[num2], 'distance':math.sqrt(np.sum((movie_pca_norm[movie_pca_norm.index == ind[num1]].values-movie_pca_norm[movie_pca_norm.index == ind[num2]].values)**2))})\n",
    "\n",
    "d = pd.DataFrame(dist)\n",
    "d = d.set_index(['movieId1','movieId2'])\n",
    "d = d[d.distance != 0]"
   ]
  },
  {
   "cell_type": "code",
   "execution_count": 14,
   "metadata": {
    "collapsed": false
   },
   "outputs": [
    {
     "name": "stdout",
     "output_type": "stream",
     "text": [
      "Movies closest to Harry Potter and the Sorcerer's Stone (a.k.a. Harry Potter and the Philosopher's Stone) (2001):\n"
     ]
    },
    {
     "data": {
      "text/html": [
       "<div>\n",
       "<table border=\"1\" class=\"dataframe\">\n",
       "  <thead>\n",
       "    <tr style=\"text-align: right;\">\n",
       "      <th></th>\n",
       "      <th>distance</th>\n",
       "      <th>title</th>\n",
       "      <th>genres</th>\n",
       "    </tr>\n",
       "  </thead>\n",
       "  <tbody>\n",
       "    <tr>\n",
       "      <th>551</th>\n",
       "      <td>2.045114</td>\n",
       "      <td>Nightmare Before Christmas, The (1993)</td>\n",
       "      <td>Animation|Children|Fantasy|Musical</td>\n",
       "    </tr>\n",
       "    <tr>\n",
       "      <th>40815</th>\n",
       "      <td>2.065060</td>\n",
       "      <td>Harry Potter and the Goblet of Fire (2005)</td>\n",
       "      <td>Adventure|Fantasy|Thriller|IMAX</td>\n",
       "    </tr>\n",
       "    <tr>\n",
       "      <th>5816</th>\n",
       "      <td>2.065709</td>\n",
       "      <td>Harry Potter and the Chamber of Secrets (2002)</td>\n",
       "      <td>Adventure|Fantasy</td>\n",
       "    </tr>\n",
       "    <tr>\n",
       "      <th>68237</th>\n",
       "      <td>2.093137</td>\n",
       "      <td>Moon (2009)</td>\n",
       "      <td>Drama|Mystery|Sci-Fi|Thriller</td>\n",
       "    </tr>\n",
       "    <tr>\n",
       "      <th>3000</th>\n",
       "      <td>2.097690</td>\n",
       "      <td>Princess Mononoke (Mononoke-hime) (1997)</td>\n",
       "      <td>Action|Adventure|Animation|Drama|Fantasy</td>\n",
       "    </tr>\n",
       "    <tr>\n",
       "      <th>1127</th>\n",
       "      <td>2.104640</td>\n",
       "      <td>Abyss, The (1989)</td>\n",
       "      <td>Action|Adventure|Sci-Fi|Thriller</td>\n",
       "    </tr>\n",
       "    <tr>\n",
       "      <th>1617</th>\n",
       "      <td>2.111250</td>\n",
       "      <td>L.A. Confidential (1997)</td>\n",
       "      <td>Crime|Film-Noir|Mystery|Thriller</td>\n",
       "    </tr>\n",
       "    <tr>\n",
       "      <th>47610</th>\n",
       "      <td>2.125300</td>\n",
       "      <td>Illusionist, The (2006)</td>\n",
       "      <td>Drama|Fantasy|Mystery|Romance</td>\n",
       "    </tr>\n",
       "    <tr>\n",
       "      <th>7458</th>\n",
       "      <td>2.133924</td>\n",
       "      <td>Troy (2004)</td>\n",
       "      <td>Action|Adventure|Drama|War</td>\n",
       "    </tr>\n",
       "    <tr>\n",
       "      <th>2001</th>\n",
       "      <td>2.139426</td>\n",
       "      <td>Lethal Weapon 2 (1989)</td>\n",
       "      <td>Action|Comedy|Crime|Drama</td>\n",
       "    </tr>\n",
       "  </tbody>\n",
       "</table>\n",
       "</div>"
      ],
      "text/plain": [
       "       distance                                           title  \\\n",
       "551    2.045114          Nightmare Before Christmas, The (1993)   \n",
       "40815  2.065060      Harry Potter and the Goblet of Fire (2005)   \n",
       "5816   2.065709  Harry Potter and the Chamber of Secrets (2002)   \n",
       "68237  2.093137                                     Moon (2009)   \n",
       "3000   2.097690        Princess Mononoke (Mononoke-hime) (1997)   \n",
       "1127   2.104640                               Abyss, The (1989)   \n",
       "1617   2.111250                        L.A. Confidential (1997)   \n",
       "47610  2.125300                         Illusionist, The (2006)   \n",
       "7458   2.133924                                     Troy (2004)   \n",
       "2001   2.139426                          Lethal Weapon 2 (1989)   \n",
       "\n",
       "                                         genres  \n",
       "551          Animation|Children|Fantasy|Musical  \n",
       "40815           Adventure|Fantasy|Thriller|IMAX  \n",
       "5816                          Adventure|Fantasy  \n",
       "68237             Drama|Mystery|Sci-Fi|Thriller  \n",
       "3000   Action|Adventure|Animation|Drama|Fantasy  \n",
       "1127           Action|Adventure|Sci-Fi|Thriller  \n",
       "1617           Crime|Film-Noir|Mystery|Thriller  \n",
       "47610             Drama|Fantasy|Mystery|Romance  \n",
       "7458                 Action|Adventure|Drama|War  \n",
       "2001                  Action|Comedy|Crime|Drama  "
      ]
     },
     "execution_count": 14,
     "metadata": {},
     "output_type": "execute_result"
    }
   ],
   "source": [
    "d_mov = 4896\n",
    "closest = d.loc[d_mov].sort_values('distance').head(10)\n",
    "print(\"Movies closest to %s:\" %movies.loc[d_mov].title)\n",
    "closest = pd.merge(closest,movies,left_index = True, right_index = True).sort_values('distance')\n",
    "closest"
   ]
  },
  {
   "cell_type": "code",
   "execution_count": null,
   "metadata": {
    "collapsed": true
   },
   "outputs": [],
   "source": []
  },
  {
   "cell_type": "code",
   "execution_count": null,
   "metadata": {
    "collapsed": true
   },
   "outputs": [],
   "source": []
  },
  {
   "cell_type": "code",
   "execution_count": 15,
   "metadata": {
    "collapsed": false
   },
   "outputs": [],
   "source": [
    "my_ratings = pd.DataFrame.from_csv('My Ratings.csv',index_col='movieId')\n",
    "my_rat_mean_norm = my_ratings.subtract(mu,axis = 0)\n",
    "R = np.asarray(~np.isnan(my_rat_mean_norm))\n",
    "my_rat_mean_norm = np.asarray(my_rat_mean_norm.fillna(0))\n",
    "my_features = np.random.randn(1,nfeatures)"
   ]
  },
  {
   "cell_type": "code",
   "execution_count": 16,
   "metadata": {
    "collapsed": false,
    "scrolled": true
   },
   "outputs": [
    {
     "data": {
      "text/html": [
       "<div>\n",
       "<table border=\"1\" class=\"dataframe\">\n",
       "  <thead>\n",
       "    <tr style=\"text-align: right;\">\n",
       "      <th></th>\n",
       "      <th>Predicted Rating</th>\n",
       "      <th>title</th>\n",
       "      <th>genres</th>\n",
       "    </tr>\n",
       "    <tr>\n",
       "      <th>movieId</th>\n",
       "      <th></th>\n",
       "      <th></th>\n",
       "      <th></th>\n",
       "    </tr>\n",
       "  </thead>\n",
       "  <tbody>\n",
       "    <tr>\n",
       "      <th>318</th>\n",
       "      <td>5.237571</td>\n",
       "      <td>Shawshank Redemption, The (1994)</td>\n",
       "      <td>Crime|Drama</td>\n",
       "    </tr>\n",
       "    <tr>\n",
       "      <th>2959</th>\n",
       "      <td>5.116613</td>\n",
       "      <td>Fight Club (1999)</td>\n",
       "      <td>Action|Crime|Drama|Thriller</td>\n",
       "    </tr>\n",
       "    <tr>\n",
       "      <th>50</th>\n",
       "      <td>5.106159</td>\n",
       "      <td>Usual Suspects, The (1995)</td>\n",
       "      <td>Crime|Mystery|Thriller</td>\n",
       "    </tr>\n",
       "    <tr>\n",
       "      <th>2571</th>\n",
       "      <td>5.032582</td>\n",
       "      <td>Matrix, The (1999)</td>\n",
       "      <td>Action|Sci-Fi|Thriller</td>\n",
       "    </tr>\n",
       "    <tr>\n",
       "      <th>48516</th>\n",
       "      <td>5.015751</td>\n",
       "      <td>Departed, The (2006)</td>\n",
       "      <td>Crime|Drama|Thriller</td>\n",
       "    </tr>\n",
       "    <tr>\n",
       "      <th>293</th>\n",
       "      <td>4.956526</td>\n",
       "      <td>Léon: The Professional (a.k.a. The Professiona...</td>\n",
       "      <td>Action|Crime|Drama|Thriller</td>\n",
       "    </tr>\n",
       "    <tr>\n",
       "      <th>296</th>\n",
       "      <td>4.902465</td>\n",
       "      <td>Pulp Fiction (1994)</td>\n",
       "      <td>Comedy|Crime|Drama|Thriller</td>\n",
       "    </tr>\n",
       "    <tr>\n",
       "      <th>58559</th>\n",
       "      <td>4.837117</td>\n",
       "      <td>Dark Knight, The (2008)</td>\n",
       "      <td>Action|Crime|Drama|IMAX</td>\n",
       "    </tr>\n",
       "    <tr>\n",
       "      <th>3000</th>\n",
       "      <td>4.829178</td>\n",
       "      <td>Princess Mononoke (Mononoke-hime) (1997)</td>\n",
       "      <td>Action|Adventure|Animation|Drama|Fantasy</td>\n",
       "    </tr>\n",
       "    <tr>\n",
       "      <th>68157</th>\n",
       "      <td>4.822656</td>\n",
       "      <td>Inglourious Basterds (2009)</td>\n",
       "      <td>Action|Drama|War</td>\n",
       "    </tr>\n",
       "  </tbody>\n",
       "</table>\n",
       "</div>"
      ],
      "text/plain": [
       "         Predicted Rating                                              title  \\\n",
       "movieId                                                                        \n",
       "318              5.237571                   Shawshank Redemption, The (1994)   \n",
       "2959             5.116613                                  Fight Club (1999)   \n",
       "50               5.106159                         Usual Suspects, The (1995)   \n",
       "2571             5.032582                                 Matrix, The (1999)   \n",
       "48516            5.015751                               Departed, The (2006)   \n",
       "293              4.956526  Léon: The Professional (a.k.a. The Professiona...   \n",
       "296              4.902465                                Pulp Fiction (1994)   \n",
       "58559            4.837117                            Dark Knight, The (2008)   \n",
       "3000             4.829178           Princess Mononoke (Mononoke-hime) (1997)   \n",
       "68157            4.822656                        Inglourious Basterds (2009)   \n",
       "\n",
       "                                           genres  \n",
       "movieId                                            \n",
       "318                                   Crime|Drama  \n",
       "2959                  Action|Crime|Drama|Thriller  \n",
       "50                         Crime|Mystery|Thriller  \n",
       "2571                       Action|Sci-Fi|Thriller  \n",
       "48516                        Crime|Drama|Thriller  \n",
       "293                   Action|Crime|Drama|Thriller  \n",
       "296                   Comedy|Crime|Drama|Thriller  \n",
       "58559                     Action|Crime|Drama|IMAX  \n",
       "3000     Action|Adventure|Animation|Drama|Fantasy  \n",
       "68157                            Action|Drama|War  "
      ]
     },
     "execution_count": 16,
     "metadata": {},
     "output_type": "execute_result"
    }
   ],
   "source": [
    "alpha = .003 #learning rate\n",
    "\n",
    "best_RMSE = 100\n",
    "for reg in [1,2.5,5,10]:\n",
    "    delta = 1\n",
    "    J_new = np.sum(np.multiply(((np.dot(X,np.transpose(my_features))-my_rat_mean_norm)**2),R))/2 + reg/2*np.sum(my_features**2)\n",
    "    while delta >= 0.001:\n",
    "        J_old = J_new\n",
    "        iter = iter+1\n",
    "        my_features_grad = np.dot(np.transpose(np.multiply(np.dot(X,np.transpose(my_features))-my_rat_mean_norm,R)),X) + reg*my_features\n",
    "        my_features = my_features - alpha*my_features_grad\n",
    "        J_new = np.sum(np.multiply(((np.dot(X,np.transpose(my_features))-my_rat_mean_norm)**2),R))/2 + reg/2*np.sum(my_features**2)\n",
    "        delta = (J_old-J_new)/J_old\n",
    "    my_predictions = pd.DataFrame(data = np.dot(X,np.transpose(my_features)),index = ind)\n",
    "    my_predictions = my_predictions.add(mu,axis = 0)\n",
    "    RMSE = np.sqrt(np.sum((my_predictions-my_ratings.values)**2)/np.sum(R)).values\n",
    "    if RMSE < best_RMSE:\n",
    "        best_RMSE = RMSE\n",
    "        best_reg = reg\n",
    "\n",
    "reg = best_reg\n",
    "delta = 1\n",
    "J_new = np.sum(np.multiply(((np.dot(X,np.transpose(my_features))-my_rat_mean_norm)**2),R))/2 + reg/2*np.sum(my_features**2)\n",
    "while delta >= 0.001:\n",
    "    J_old = J_new\n",
    "    iter = iter+1\n",
    "    my_features_grad = np.dot(np.transpose(np.multiply(np.dot(X,np.transpose(my_features))-my_rat_mean_norm,R)),X) + reg*my_features\n",
    "    my_features = my_features - alpha*my_features_grad\n",
    "    J_new = np.sum(np.multiply(((np.dot(X,np.transpose(my_features))-my_rat_mean_norm)**2),R))/2 + reg/2*np.sum(my_features**2)\n",
    "    delta = (J_old-J_new)/J_old\n",
    "my_predictions = pd.DataFrame(data = np.dot(X,np.transpose(my_features)),index = ind,columns=['Predicted Rating'])\n",
    "my_predictions = my_predictions.add(mu,axis = 0).merge(movies,left_index = True, right_index = True)\n",
    "my_predictions.sort_values(by='Predicted Rating',ascending=False).head(10)"
   ]
  },
  {
   "cell_type": "code",
   "execution_count": null,
   "metadata": {
    "collapsed": false
   },
   "outputs": [],
   "source": []
  },
  {
   "cell_type": "code",
   "execution_count": null,
   "metadata": {
    "collapsed": false
   },
   "outputs": [],
   "source": []
  },
  {
   "cell_type": "code",
   "execution_count": null,
   "metadata": {
    "collapsed": true
   },
   "outputs": [],
   "source": []
  }
 ],
 "metadata": {
  "kernelspec": {
   "display_name": "Python 3",
   "language": "python",
   "name": "python3"
  },
  "language_info": {
   "codemirror_mode": {
    "name": "ipython",
    "version": 3
   },
   "file_extension": ".py",
   "mimetype": "text/x-python",
   "name": "python",
   "nbconvert_exporter": "python",
   "pygments_lexer": "ipython3",
   "version": "3.5.1"
  }
 },
 "nbformat": 4,
 "nbformat_minor": 0
}
